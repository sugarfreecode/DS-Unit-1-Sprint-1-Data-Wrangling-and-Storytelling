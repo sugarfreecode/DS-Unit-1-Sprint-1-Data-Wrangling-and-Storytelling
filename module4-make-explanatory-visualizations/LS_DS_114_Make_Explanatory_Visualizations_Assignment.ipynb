{
  "nbformat": 4,
  "nbformat_minor": 0,
  "metadata": {
    "colab": {
      "name": "LS_DS_114_Make_Explanatory_Visualizations_Assignment.ipynb",
      "provenance": [],
      "collapsed_sections": []
    },
    "language_info": {
      "codemirror_mode": {
        "name": "ipython",
        "version": 3
      },
      "file_extension": ".py",
      "mimetype": "text/x-python",
      "name": "python",
      "nbconvert_exporter": "python",
      "pygments_lexer": "ipython3",
      "version": "3.7.1"
    },
    "kernelspec": {
      "display_name": "Python 3",
      "language": "python",
      "name": "python3"
    }
  },
  "cells": [
    {
      "cell_type": "markdown",
      "metadata": {
        "id": "NMEswXWh9mqw"
      },
      "source": [
        "Lambda School Data Science\n",
        "\n",
        "*Unit 1, Sprint 1, Module 4*\n",
        "\n",
        "---\n",
        "\n",
        "# ASSIGNMENT\n",
        "\n",
        "### 1) Replicate the lesson code. I recommend that you [do not copy-paste](https://docs.google.com/document/d/1ubOw9B3Hfip27hF2ZFnW3a3z9xAgrUDRReOEo-FHCVs/edit).\n",
        "\n",
        "Get caught up to where we got our example in class and then try and take things further. How close to \"pixel perfect\" can you make the lecture graph?\n",
        "\n",
        "Once you have something that you're proud of, share your graph in the cohort channel and move on to the second exercise.\n",
        "\n",
        "### 2) Reproduce another example from [FiveThityEight's shared data repository](https://data.fivethirtyeight.com/).\n",
        "\n",
        "**WARNING**: There are a lot of very custom graphs and tables at the above link. I **highly** recommend not trying to reproduce any that look like a table of values or something really different from the graph types that we are already familiar with. Search through the posts until you find a graph type that you are more or less familiar with: histogram, bar chart, stacked bar chart, line chart, [seaborn relplot](https://seaborn.pydata.org/generated/seaborn.relplot.html), etc. Recreating some of the graphics that 538 uses would be a lot easier in Adobe photoshop/illustrator than with matplotlib. \n",
        "\n",
        "- If you put in some time to find a graph that looks \"easy\" to replicate you'll probably find that it's not as easy as you thought. \n",
        "\n",
        "- If you start with a graph that looks hard to replicate you'll probably run up against a brick wall and be disappointed with your afternoon.\n",
        "\n",
        "\n",
        "\n",
        "\n",
        "\n",
        "\n",
        "\n",
        "\n",
        "\n",
        "\n"
      ]
    },
    {
      "cell_type": "code",
      "metadata": {
        "id": "7SY1ZHawyZvz"
      },
      "source": [
        "import pandas as pd\n",
        "import numpy as np\n",
        "import matplotlib.pyplot as plt\n",
        "import seaborn as sns"
      ],
      "execution_count": 1,
      "outputs": []
    },
    {
      "cell_type": "code",
      "source": [
        "russia=pd.read_csv('https://raw.githubusercontent.com/fivethirtyeight/data/master/russia-investigation/russia-investigation.csv')\n",
        "print(russia.shape)\n",
        "russia.sample(10)"
      ],
      "metadata": {
        "id": "JIhw2YuOC8-z",
        "outputId": "42ccb1ec-9d4b-4d71-a867-6f0a64be2fc3",
        "colab": {
          "base_uri": "https://localhost:8080/",
          "height": 661
        }
      },
      "execution_count": 2,
      "outputs": [
        {
          "output_type": "stream",
          "name": "stdout",
          "text": [
            "(194, 13)\n"
          ]
        },
        {
          "output_type": "execute_result",
          "data": {
            "text/plain": [
              "    investigation investigation-start investigation-end  investigation-days  \\\n",
              "48      watergate          1973-05-19        1977-06-19                1492   \n",
              "159         plame          2003-12-31        2007-03-06                1161   \n",
              "193        russia          2017-05-17               NaN                 659   \n",
              "170        russia          2017-05-17               NaN                 659   \n",
              "176        russia          2017-05-17               NaN                 659   \n",
              "101        pierce          1990-03-01        1998-10-27                3162   \n",
              "155     eli-segal          1996-11-27        1997-08-21                 267   \n",
              "150      cisneros          1995-05-24        2004-08-31                3387   \n",
              "62      watergate          1973-05-19        1977-06-19                1492   \n",
              "18      watergate          1973-05-19        1977-06-19                1492   \n",
              "\n",
              "                         name  indictment-days          type     cp-date  \\\n",
              "48         Francis X. Carroll             374.0  guilty-plea  1974-05-28   \n",
              "159  I. Lewis \"Scooter\" Libby            1161.0   conviction  2007-03-06   \n",
              "193               Roger Stone             618.0   indictment         NaN   \n",
              "170        Russian national 7             275.0   indictment         NaN   \n",
              "176       Russian national 13             275.0   indictment         NaN   \n",
              "101             Thomas Demery             831.0  guilty-plea  1993-06-17   \n",
              "155                       NaN               NaN          NaN         NaN   \n",
              "150              Allen Wooten             843.0  guilty-plea  1998-01-15   \n",
              "62              Jack Chestnut             583.0   conviction  1975-05-08   \n",
              "18               Jeb Magruder              89.0  guilty-plea  1973-08-16   \n",
              "\n",
              "     cp-days  overturned  pardoned  american         president  \n",
              "48     374.0       False     False      True     Richard Nixon  \n",
              "159   1161.0       False      True      True    George W. Bush  \n",
              "193      NaN       False     False      True      Donald Trump  \n",
              "170      NaN       False     False     False      Donald Trump  \n",
              "176      NaN       False     False     False      Donald Trump  \n",
              "101   1204.0       False     False      True  George H.W. Bush  \n",
              "155      NaN       False     False      True      Bill Clinton  \n",
              "150    967.0       False     False      True      Bill Clinton  \n",
              "62     719.0       False     False      True     Richard Nixon  \n",
              "18      89.0       False     False      True     Richard Nixon  "
            ],
            "text/html": [
              "\n",
              "  <div id=\"df-3712c9ad-eacd-4179-9a8e-5c5d12b7421d\">\n",
              "    <div class=\"colab-df-container\">\n",
              "      <div>\n",
              "<style scoped>\n",
              "    .dataframe tbody tr th:only-of-type {\n",
              "        vertical-align: middle;\n",
              "    }\n",
              "\n",
              "    .dataframe tbody tr th {\n",
              "        vertical-align: top;\n",
              "    }\n",
              "\n",
              "    .dataframe thead th {\n",
              "        text-align: right;\n",
              "    }\n",
              "</style>\n",
              "<table border=\"1\" class=\"dataframe\">\n",
              "  <thead>\n",
              "    <tr style=\"text-align: right;\">\n",
              "      <th></th>\n",
              "      <th>investigation</th>\n",
              "      <th>investigation-start</th>\n",
              "      <th>investigation-end</th>\n",
              "      <th>investigation-days</th>\n",
              "      <th>name</th>\n",
              "      <th>indictment-days</th>\n",
              "      <th>type</th>\n",
              "      <th>cp-date</th>\n",
              "      <th>cp-days</th>\n",
              "      <th>overturned</th>\n",
              "      <th>pardoned</th>\n",
              "      <th>american</th>\n",
              "      <th>president</th>\n",
              "    </tr>\n",
              "  </thead>\n",
              "  <tbody>\n",
              "    <tr>\n",
              "      <th>48</th>\n",
              "      <td>watergate</td>\n",
              "      <td>1973-05-19</td>\n",
              "      <td>1977-06-19</td>\n",
              "      <td>1492</td>\n",
              "      <td>Francis X. Carroll</td>\n",
              "      <td>374.0</td>\n",
              "      <td>guilty-plea</td>\n",
              "      <td>1974-05-28</td>\n",
              "      <td>374.0</td>\n",
              "      <td>False</td>\n",
              "      <td>False</td>\n",
              "      <td>True</td>\n",
              "      <td>Richard Nixon</td>\n",
              "    </tr>\n",
              "    <tr>\n",
              "      <th>159</th>\n",
              "      <td>plame</td>\n",
              "      <td>2003-12-31</td>\n",
              "      <td>2007-03-06</td>\n",
              "      <td>1161</td>\n",
              "      <td>I. Lewis \"Scooter\" Libby</td>\n",
              "      <td>1161.0</td>\n",
              "      <td>conviction</td>\n",
              "      <td>2007-03-06</td>\n",
              "      <td>1161.0</td>\n",
              "      <td>False</td>\n",
              "      <td>True</td>\n",
              "      <td>True</td>\n",
              "      <td>George W. Bush</td>\n",
              "    </tr>\n",
              "    <tr>\n",
              "      <th>193</th>\n",
              "      <td>russia</td>\n",
              "      <td>2017-05-17</td>\n",
              "      <td>NaN</td>\n",
              "      <td>659</td>\n",
              "      <td>Roger Stone</td>\n",
              "      <td>618.0</td>\n",
              "      <td>indictment</td>\n",
              "      <td>NaN</td>\n",
              "      <td>NaN</td>\n",
              "      <td>False</td>\n",
              "      <td>False</td>\n",
              "      <td>True</td>\n",
              "      <td>Donald Trump</td>\n",
              "    </tr>\n",
              "    <tr>\n",
              "      <th>170</th>\n",
              "      <td>russia</td>\n",
              "      <td>2017-05-17</td>\n",
              "      <td>NaN</td>\n",
              "      <td>659</td>\n",
              "      <td>Russian national 7</td>\n",
              "      <td>275.0</td>\n",
              "      <td>indictment</td>\n",
              "      <td>NaN</td>\n",
              "      <td>NaN</td>\n",
              "      <td>False</td>\n",
              "      <td>False</td>\n",
              "      <td>False</td>\n",
              "      <td>Donald Trump</td>\n",
              "    </tr>\n",
              "    <tr>\n",
              "      <th>176</th>\n",
              "      <td>russia</td>\n",
              "      <td>2017-05-17</td>\n",
              "      <td>NaN</td>\n",
              "      <td>659</td>\n",
              "      <td>Russian national 13</td>\n",
              "      <td>275.0</td>\n",
              "      <td>indictment</td>\n",
              "      <td>NaN</td>\n",
              "      <td>NaN</td>\n",
              "      <td>False</td>\n",
              "      <td>False</td>\n",
              "      <td>False</td>\n",
              "      <td>Donald Trump</td>\n",
              "    </tr>\n",
              "    <tr>\n",
              "      <th>101</th>\n",
              "      <td>pierce</td>\n",
              "      <td>1990-03-01</td>\n",
              "      <td>1998-10-27</td>\n",
              "      <td>3162</td>\n",
              "      <td>Thomas Demery</td>\n",
              "      <td>831.0</td>\n",
              "      <td>guilty-plea</td>\n",
              "      <td>1993-06-17</td>\n",
              "      <td>1204.0</td>\n",
              "      <td>False</td>\n",
              "      <td>False</td>\n",
              "      <td>True</td>\n",
              "      <td>George H.W. Bush</td>\n",
              "    </tr>\n",
              "    <tr>\n",
              "      <th>155</th>\n",
              "      <td>eli-segal</td>\n",
              "      <td>1996-11-27</td>\n",
              "      <td>1997-08-21</td>\n",
              "      <td>267</td>\n",
              "      <td>NaN</td>\n",
              "      <td>NaN</td>\n",
              "      <td>NaN</td>\n",
              "      <td>NaN</td>\n",
              "      <td>NaN</td>\n",
              "      <td>False</td>\n",
              "      <td>False</td>\n",
              "      <td>True</td>\n",
              "      <td>Bill Clinton</td>\n",
              "    </tr>\n",
              "    <tr>\n",
              "      <th>150</th>\n",
              "      <td>cisneros</td>\n",
              "      <td>1995-05-24</td>\n",
              "      <td>2004-08-31</td>\n",
              "      <td>3387</td>\n",
              "      <td>Allen Wooten</td>\n",
              "      <td>843.0</td>\n",
              "      <td>guilty-plea</td>\n",
              "      <td>1998-01-15</td>\n",
              "      <td>967.0</td>\n",
              "      <td>False</td>\n",
              "      <td>False</td>\n",
              "      <td>True</td>\n",
              "      <td>Bill Clinton</td>\n",
              "    </tr>\n",
              "    <tr>\n",
              "      <th>62</th>\n",
              "      <td>watergate</td>\n",
              "      <td>1973-05-19</td>\n",
              "      <td>1977-06-19</td>\n",
              "      <td>1492</td>\n",
              "      <td>Jack Chestnut</td>\n",
              "      <td>583.0</td>\n",
              "      <td>conviction</td>\n",
              "      <td>1975-05-08</td>\n",
              "      <td>719.0</td>\n",
              "      <td>False</td>\n",
              "      <td>False</td>\n",
              "      <td>True</td>\n",
              "      <td>Richard Nixon</td>\n",
              "    </tr>\n",
              "    <tr>\n",
              "      <th>18</th>\n",
              "      <td>watergate</td>\n",
              "      <td>1973-05-19</td>\n",
              "      <td>1977-06-19</td>\n",
              "      <td>1492</td>\n",
              "      <td>Jeb Magruder</td>\n",
              "      <td>89.0</td>\n",
              "      <td>guilty-plea</td>\n",
              "      <td>1973-08-16</td>\n",
              "      <td>89.0</td>\n",
              "      <td>False</td>\n",
              "      <td>False</td>\n",
              "      <td>True</td>\n",
              "      <td>Richard Nixon</td>\n",
              "    </tr>\n",
              "  </tbody>\n",
              "</table>\n",
              "</div>\n",
              "      <button class=\"colab-df-convert\" onclick=\"convertToInteractive('df-3712c9ad-eacd-4179-9a8e-5c5d12b7421d')\"\n",
              "              title=\"Convert this dataframe to an interactive table.\"\n",
              "              style=\"display:none;\">\n",
              "        \n",
              "  <svg xmlns=\"http://www.w3.org/2000/svg\" height=\"24px\"viewBox=\"0 0 24 24\"\n",
              "       width=\"24px\">\n",
              "    <path d=\"M0 0h24v24H0V0z\" fill=\"none\"/>\n",
              "    <path d=\"M18.56 5.44l.94 2.06.94-2.06 2.06-.94-2.06-.94-.94-2.06-.94 2.06-2.06.94zm-11 1L8.5 8.5l.94-2.06 2.06-.94-2.06-.94L8.5 2.5l-.94 2.06-2.06.94zm10 10l.94 2.06.94-2.06 2.06-.94-2.06-.94-.94-2.06-.94 2.06-2.06.94z\"/><path d=\"M17.41 7.96l-1.37-1.37c-.4-.4-.92-.59-1.43-.59-.52 0-1.04.2-1.43.59L10.3 9.45l-7.72 7.72c-.78.78-.78 2.05 0 2.83L4 21.41c.39.39.9.59 1.41.59.51 0 1.02-.2 1.41-.59l7.78-7.78 2.81-2.81c.8-.78.8-2.07 0-2.86zM5.41 20L4 18.59l7.72-7.72 1.47 1.35L5.41 20z\"/>\n",
              "  </svg>\n",
              "      </button>\n",
              "      \n",
              "  <style>\n",
              "    .colab-df-container {\n",
              "      display:flex;\n",
              "      flex-wrap:wrap;\n",
              "      gap: 12px;\n",
              "    }\n",
              "\n",
              "    .colab-df-convert {\n",
              "      background-color: #E8F0FE;\n",
              "      border: none;\n",
              "      border-radius: 50%;\n",
              "      cursor: pointer;\n",
              "      display: none;\n",
              "      fill: #1967D2;\n",
              "      height: 32px;\n",
              "      padding: 0 0 0 0;\n",
              "      width: 32px;\n",
              "    }\n",
              "\n",
              "    .colab-df-convert:hover {\n",
              "      background-color: #E2EBFA;\n",
              "      box-shadow: 0px 1px 2px rgba(60, 64, 67, 0.3), 0px 1px 3px 1px rgba(60, 64, 67, 0.15);\n",
              "      fill: #174EA6;\n",
              "    }\n",
              "\n",
              "    [theme=dark] .colab-df-convert {\n",
              "      background-color: #3B4455;\n",
              "      fill: #D2E3FC;\n",
              "    }\n",
              "\n",
              "    [theme=dark] .colab-df-convert:hover {\n",
              "      background-color: #434B5C;\n",
              "      box-shadow: 0px 1px 3px 1px rgba(0, 0, 0, 0.15);\n",
              "      filter: drop-shadow(0px 1px 2px rgba(0, 0, 0, 0.3));\n",
              "      fill: #FFFFFF;\n",
              "    }\n",
              "  </style>\n",
              "\n",
              "      <script>\n",
              "        const buttonEl =\n",
              "          document.querySelector('#df-3712c9ad-eacd-4179-9a8e-5c5d12b7421d button.colab-df-convert');\n",
              "        buttonEl.style.display =\n",
              "          google.colab.kernel.accessAllowed ? 'block' : 'none';\n",
              "\n",
              "        async function convertToInteractive(key) {\n",
              "          const element = document.querySelector('#df-3712c9ad-eacd-4179-9a8e-5c5d12b7421d');\n",
              "          const dataTable =\n",
              "            await google.colab.kernel.invokeFunction('convertToInteractive',\n",
              "                                                     [key], {});\n",
              "          if (!dataTable) return;\n",
              "\n",
              "          const docLinkHtml = 'Like what you see? Visit the ' +\n",
              "            '<a target=\"_blank\" href=https://colab.research.google.com/notebooks/data_table.ipynb>data table notebook</a>'\n",
              "            + ' to learn more about interactive tables.';\n",
              "          element.innerHTML = '';\n",
              "          dataTable['output_type'] = 'display_data';\n",
              "          await google.colab.output.renderOutput(dataTable, element);\n",
              "          const docLink = document.createElement('div');\n",
              "          docLink.innerHTML = docLinkHtml;\n",
              "          element.appendChild(docLink);\n",
              "        }\n",
              "      </script>\n",
              "    </div>\n",
              "  </div>\n",
              "  "
            ]
          },
          "metadata": {},
          "execution_count": 2
        }
      ]
    },
    {
      "cell_type": "code",
      "source": [
        "from IPython.display import display, Image\n",
        "\n",
        "url=''"
      ],
      "metadata": {
        "id": "Ky2PyoabFW72"
      },
      "execution_count": null,
      "outputs": []
    },
    {
      "cell_type": "code",
      "source": [
        "russia['investigation-start'].dtype"
      ],
      "metadata": {
        "id": "bNFQCnHBJCv9",
        "outputId": "e94b4b65-f8c3-4229-fb3c-c8ce3181a0f1",
        "colab": {
          "base_uri": "https://localhost:8080/"
        }
      },
      "execution_count": 8,
      "outputs": [
        {
          "output_type": "execute_result",
          "data": {
            "text/plain": [
              "dtype('O')"
            ]
          },
          "metadata": {},
          "execution_count": 8
        }
      ]
    },
    {
      "cell_type": "code",
      "source": [
        "russia.isnull().sum()"
      ],
      "metadata": {
        "id": "LH-w9v6sLQIb",
        "outputId": "ff44677c-338c-4437-bdc4-8127a2d4f454",
        "colab": {
          "base_uri": "https://localhost:8080/"
        }
      },
      "execution_count": 9,
      "outputs": [
        {
          "output_type": "execute_result",
          "data": {
            "text/plain": [
              "investigation           0\n",
              "investigation-start     0\n",
              "investigation-end      34\n",
              "investigation-days      0\n",
              "name                   13\n",
              "indictment-days        13\n",
              "type                   13\n",
              "cp-date                68\n",
              "cp-days                71\n",
              "overturned              0\n",
              "pardoned                0\n",
              "american                0\n",
              "president               0\n",
              "dtype: int64"
            ]
          },
          "metadata": {},
          "execution_count": 9
        }
      ]
    },
    {
      "cell_type": "code",
      "source": [
        "# convert into appropriate data format datetime columns\n"
      ],
      "metadata": {
        "id": "bX2ZztEqLDgT"
      },
      "execution_count": null,
      "outputs": []
    },
    {
      "cell_type": "code",
      "source": [
        "russia.groupby('investigation')['investigation-days'].max().sort_values()"
      ],
      "metadata": {
        "id": "QmeQri-RNe7j",
        "outputId": "d0cdb64f-e1e7-45e0-d166-5fbf5aeb7fd9",
        "colab": {
          "base_uri": "https://localhost:8080/"
        }
      },
      "execution_count": 24,
      "outputs": [
        {
          "output_type": "execute_result",
          "data": {
            "text/plain": [
              "investigation\n",
              "edwin-meese                       171\n",
              "raymond-donovan                   178\n",
              "hamilton-jordan                   181\n",
              "waco                              226\n",
              "eli-segal                         267\n",
              "sealed-investigation-reagan       364\n",
              "sealed-investigation-hwbush-2     453\n",
              "sealed-investigation-hwbush-1     453\n",
              "tim-kraft                         493\n",
              "ron-brown                         497\n",
              "wedtech                           522\n",
              "bruce-babbitt                     651\n",
              "russia                            659\n",
              "herman                            682\n",
              "ted-olson                        1056\n",
              "bush-clinton-passport            1081\n",
              "plame                            1161\n",
              "deaver                           1175\n",
              "watergate                        1494\n",
              "espy                             2335\n",
              "iran-contra                      2419\n",
              "whitewater                       2770\n",
              "pierce                           3162\n",
              "cisneros                         3387\n",
              "Name: investigation-days, dtype: int64"
            ]
          },
          "metadata": {},
          "execution_count": 24
        }
      ]
    },
    {
      "cell_type": "code",
      "source": [
        "russia[russia['investigation']=='edwin-meese']"
      ],
      "metadata": {
        "id": "cjf_zlp4UQuo",
        "outputId": "381d244e-2d91-466b-d041-754383a7a315",
        "colab": {
          "base_uri": "https://localhost:8080/",
          "height": 158
        }
      },
      "execution_count": 27,
      "outputs": [
        {
          "output_type": "execute_result",
          "data": {
            "text/plain": [
              "   investigation investigation-start investigation-end  investigation-days  \\\n",
              "75   edwin-meese          1984-04-02        1984-09-20                 171   \n",
              "\n",
              "   name  indictment-days  type cp-date  cp-days  overturned  pardoned  \\\n",
              "75  NaN               NaN  NaN     NaN      NaN       False     False   \n",
              "\n",
              "    american      president  \n",
              "75      True  Ronald Reagan  "
            ],
            "text/html": [
              "\n",
              "  <div id=\"df-6d71b19d-09db-405f-948d-91ec0d41aa73\">\n",
              "    <div class=\"colab-df-container\">\n",
              "      <div>\n",
              "<style scoped>\n",
              "    .dataframe tbody tr th:only-of-type {\n",
              "        vertical-align: middle;\n",
              "    }\n",
              "\n",
              "    .dataframe tbody tr th {\n",
              "        vertical-align: top;\n",
              "    }\n",
              "\n",
              "    .dataframe thead th {\n",
              "        text-align: right;\n",
              "    }\n",
              "</style>\n",
              "<table border=\"1\" class=\"dataframe\">\n",
              "  <thead>\n",
              "    <tr style=\"text-align: right;\">\n",
              "      <th></th>\n",
              "      <th>investigation</th>\n",
              "      <th>investigation-start</th>\n",
              "      <th>investigation-end</th>\n",
              "      <th>investigation-days</th>\n",
              "      <th>name</th>\n",
              "      <th>indictment-days</th>\n",
              "      <th>type</th>\n",
              "      <th>cp-date</th>\n",
              "      <th>cp-days</th>\n",
              "      <th>overturned</th>\n",
              "      <th>pardoned</th>\n",
              "      <th>american</th>\n",
              "      <th>president</th>\n",
              "    </tr>\n",
              "  </thead>\n",
              "  <tbody>\n",
              "    <tr>\n",
              "      <th>75</th>\n",
              "      <td>edwin-meese</td>\n",
              "      <td>1984-04-02</td>\n",
              "      <td>1984-09-20</td>\n",
              "      <td>171</td>\n",
              "      <td>NaN</td>\n",
              "      <td>NaN</td>\n",
              "      <td>NaN</td>\n",
              "      <td>NaN</td>\n",
              "      <td>NaN</td>\n",
              "      <td>False</td>\n",
              "      <td>False</td>\n",
              "      <td>True</td>\n",
              "      <td>Ronald Reagan</td>\n",
              "    </tr>\n",
              "  </tbody>\n",
              "</table>\n",
              "</div>\n",
              "      <button class=\"colab-df-convert\" onclick=\"convertToInteractive('df-6d71b19d-09db-405f-948d-91ec0d41aa73')\"\n",
              "              title=\"Convert this dataframe to an interactive table.\"\n",
              "              style=\"display:none;\">\n",
              "        \n",
              "  <svg xmlns=\"http://www.w3.org/2000/svg\" height=\"24px\"viewBox=\"0 0 24 24\"\n",
              "       width=\"24px\">\n",
              "    <path d=\"M0 0h24v24H0V0z\" fill=\"none\"/>\n",
              "    <path d=\"M18.56 5.44l.94 2.06.94-2.06 2.06-.94-2.06-.94-.94-2.06-.94 2.06-2.06.94zm-11 1L8.5 8.5l.94-2.06 2.06-.94-2.06-.94L8.5 2.5l-.94 2.06-2.06.94zm10 10l.94 2.06.94-2.06 2.06-.94-2.06-.94-.94-2.06-.94 2.06-2.06.94z\"/><path d=\"M17.41 7.96l-1.37-1.37c-.4-.4-.92-.59-1.43-.59-.52 0-1.04.2-1.43.59L10.3 9.45l-7.72 7.72c-.78.78-.78 2.05 0 2.83L4 21.41c.39.39.9.59 1.41.59.51 0 1.02-.2 1.41-.59l7.78-7.78 2.81-2.81c.8-.78.8-2.07 0-2.86zM5.41 20L4 18.59l7.72-7.72 1.47 1.35L5.41 20z\"/>\n",
              "  </svg>\n",
              "      </button>\n",
              "      \n",
              "  <style>\n",
              "    .colab-df-container {\n",
              "      display:flex;\n",
              "      flex-wrap:wrap;\n",
              "      gap: 12px;\n",
              "    }\n",
              "\n",
              "    .colab-df-convert {\n",
              "      background-color: #E8F0FE;\n",
              "      border: none;\n",
              "      border-radius: 50%;\n",
              "      cursor: pointer;\n",
              "      display: none;\n",
              "      fill: #1967D2;\n",
              "      height: 32px;\n",
              "      padding: 0 0 0 0;\n",
              "      width: 32px;\n",
              "    }\n",
              "\n",
              "    .colab-df-convert:hover {\n",
              "      background-color: #E2EBFA;\n",
              "      box-shadow: 0px 1px 2px rgba(60, 64, 67, 0.3), 0px 1px 3px 1px rgba(60, 64, 67, 0.15);\n",
              "      fill: #174EA6;\n",
              "    }\n",
              "\n",
              "    [theme=dark] .colab-df-convert {\n",
              "      background-color: #3B4455;\n",
              "      fill: #D2E3FC;\n",
              "    }\n",
              "\n",
              "    [theme=dark] .colab-df-convert:hover {\n",
              "      background-color: #434B5C;\n",
              "      box-shadow: 0px 1px 3px 1px rgba(0, 0, 0, 0.15);\n",
              "      filter: drop-shadow(0px 1px 2px rgba(0, 0, 0, 0.3));\n",
              "      fill: #FFFFFF;\n",
              "    }\n",
              "  </style>\n",
              "\n",
              "      <script>\n",
              "        const buttonEl =\n",
              "          document.querySelector('#df-6d71b19d-09db-405f-948d-91ec0d41aa73 button.colab-df-convert');\n",
              "        buttonEl.style.display =\n",
              "          google.colab.kernel.accessAllowed ? 'block' : 'none';\n",
              "\n",
              "        async function convertToInteractive(key) {\n",
              "          const element = document.querySelector('#df-6d71b19d-09db-405f-948d-91ec0d41aa73');\n",
              "          const dataTable =\n",
              "            await google.colab.kernel.invokeFunction('convertToInteractive',\n",
              "                                                     [key], {});\n",
              "          if (!dataTable) return;\n",
              "\n",
              "          const docLinkHtml = 'Like what you see? Visit the ' +\n",
              "            '<a target=\"_blank\" href=https://colab.research.google.com/notebooks/data_table.ipynb>data table notebook</a>'\n",
              "            + ' to learn more about interactive tables.';\n",
              "          element.innerHTML = '';\n",
              "          dataTable['output_type'] = 'display_data';\n",
              "          await google.colab.output.renderOutput(dataTable, element);\n",
              "          const docLink = document.createElement('div');\n",
              "          docLink.innerHTML = docLinkHtml;\n",
              "          element.appendChild(docLink);\n",
              "        }\n",
              "      </script>\n",
              "    </div>\n",
              "  </div>\n",
              "  "
            ]
          },
          "metadata": {},
          "execution_count": 27
        }
      ]
    },
    {
      "cell_type": "code",
      "source": [
        "russia[russia['type'].isna()]['investigation'].unique()"
      ],
      "metadata": {
        "id": "rHBjK0kxUm4B",
        "outputId": "8022bab6-9004-4629-f809-b7f9ac7c2986",
        "colab": {
          "base_uri": "https://localhost:8080/"
        }
      },
      "execution_count": 35,
      "outputs": [
        {
          "output_type": "execute_result",
          "data": {
            "text/plain": [
              "array(['hamilton-jordan', 'tim-kraft', 'raymond-donovan', 'edwin-meese',\n",
              "       'ted-olson', 'sealed-investigation-reagan',\n",
              "       'sealed-investigation-hwbush-1', 'sealed-investigation-hwbush-2',\n",
              "       'bush-clinton-passport', 'ron-brown', 'eli-segal', 'bruce-babbitt',\n",
              "       'waco'], dtype=object)"
            ]
          },
          "metadata": {},
          "execution_count": 35
        }
      ]
    },
    {
      "cell_type": "code",
      "source": [
        "russia[russia['name'].isna()]['investigation'].unique()"
      ],
      "metadata": {
        "id": "dfXsAL0SPwFB",
        "outputId": "40f81fa0-d733-4520-cd85-ea10f26008f1",
        "colab": {
          "base_uri": "https://localhost:8080/"
        }
      },
      "execution_count": 34,
      "outputs": [
        {
          "output_type": "execute_result",
          "data": {
            "text/plain": [
              "array(['hamilton-jordan', 'tim-kraft', 'raymond-donovan', 'edwin-meese',\n",
              "       'ted-olson', 'sealed-investigation-reagan',\n",
              "       'sealed-investigation-hwbush-1', 'sealed-investigation-hwbush-2',\n",
              "       'bush-clinton-passport', 'ron-brown', 'eli-segal', 'bruce-babbitt',\n",
              "       'waco'], dtype=object)"
            ]
          },
          "metadata": {},
          "execution_count": 34
        }
      ]
    },
    {
      "cell_type": "code",
      "source": [
        "russia[russia['type'].isna()]['investigation'].unique()==russia[russia['name'].isna()]['investigation'].unique()"
      ],
      "metadata": {
        "id": "UJoyWR7nPzg-",
        "outputId": "1b963438-0895-4a0d-a2bc-a121fa6b994e",
        "colab": {
          "base_uri": "https://localhost:8080/"
        }
      },
      "execution_count": 36,
      "outputs": [
        {
          "output_type": "execute_result",
          "data": {
            "text/plain": [
              "array([ True,  True,  True,  True,  True,  True,  True,  True,  True,\n",
              "        True,  True,  True,  True])"
            ]
          },
          "metadata": {},
          "execution_count": 36
        }
      ]
    },
    {
      "cell_type": "code",
      "source": [
        "empty_investigations=russia[russia['type'].isna()]['investigation'].unique().tolist()\n",
        "empty_investigations"
      ],
      "metadata": {
        "id": "8eKJ3BOMP7RI",
        "outputId": "e456932e-d97d-469d-d821-944bb85fcaa7",
        "colab": {
          "base_uri": "https://localhost:8080/"
        }
      },
      "execution_count": 4,
      "outputs": [
        {
          "output_type": "execute_result",
          "data": {
            "text/plain": [
              "['hamilton-jordan',\n",
              " 'tim-kraft',\n",
              " 'raymond-donovan',\n",
              " 'edwin-meese',\n",
              " 'ted-olson',\n",
              " 'sealed-investigation-reagan',\n",
              " 'sealed-investigation-hwbush-1',\n",
              " 'sealed-investigation-hwbush-2',\n",
              " 'bush-clinton-passport',\n",
              " 'ron-brown',\n",
              " 'eli-segal',\n",
              " 'bruce-babbitt',\n",
              " 'waco']"
            ]
          },
          "metadata": {},
          "execution_count": 4
        }
      ]
    },
    {
      "cell_type": "code",
      "source": [
        "rus=russia[np.invert(russia['investigation'].isin(empty_investigations))]\n",
        "rus.head()"
      ],
      "metadata": {
        "id": "Cy--IUpUQMKQ",
        "outputId": "e60ab5ce-d4d5-4722-8412-f5d74cc04758",
        "colab": {
          "base_uri": "https://localhost:8080/",
          "height": 455
        }
      },
      "execution_count": 5,
      "outputs": [
        {
          "output_type": "execute_result",
          "data": {
            "text/plain": [
              "  investigation investigation-start investigation-end  investigation-days  \\\n",
              "0     watergate          1973-05-19        1977-06-19                1492   \n",
              "1     watergate          1973-05-19        1977-06-19                1492   \n",
              "2     watergate          1973-05-19        1977-06-19                1492   \n",
              "3     watergate          1973-05-19        1977-06-19                1492   \n",
              "4     watergate          1973-05-19        1977-06-19                1492   \n",
              "\n",
              "                  name  indictment-days          type     cp-date  cp-days  \\\n",
              "0      James W. McCord            -246.0   conviction  1973-01-30   -109.0   \n",
              "1    Bernard L. Barker            -246.0   conviction  1973-01-15   -124.0   \n",
              "2    Bernard L. Barker             292.0   conviction  1974-07-12    419.0   \n",
              "3  Eugenio R. Martinez            -246.0  guilty-plea  1973-01-15   -124.0   \n",
              "4  Eugenio R. Martinez             292.0   conviction  1974-07-12    419.0   \n",
              "\n",
              "   overturned  pardoned  american      president  \n",
              "0       False     False      True  Richard Nixon  \n",
              "1       False     False      True  Richard Nixon  \n",
              "2        True     False      True  Richard Nixon  \n",
              "3       False      True      True  Richard Nixon  \n",
              "4        True     False      True  Richard Nixon  "
            ],
            "text/html": [
              "\n",
              "  <div id=\"df-b75d2ec2-3f2c-4113-bdbf-5dab59ea0a8c\">\n",
              "    <div class=\"colab-df-container\">\n",
              "      <div>\n",
              "<style scoped>\n",
              "    .dataframe tbody tr th:only-of-type {\n",
              "        vertical-align: middle;\n",
              "    }\n",
              "\n",
              "    .dataframe tbody tr th {\n",
              "        vertical-align: top;\n",
              "    }\n",
              "\n",
              "    .dataframe thead th {\n",
              "        text-align: right;\n",
              "    }\n",
              "</style>\n",
              "<table border=\"1\" class=\"dataframe\">\n",
              "  <thead>\n",
              "    <tr style=\"text-align: right;\">\n",
              "      <th></th>\n",
              "      <th>investigation</th>\n",
              "      <th>investigation-start</th>\n",
              "      <th>investigation-end</th>\n",
              "      <th>investigation-days</th>\n",
              "      <th>name</th>\n",
              "      <th>indictment-days</th>\n",
              "      <th>type</th>\n",
              "      <th>cp-date</th>\n",
              "      <th>cp-days</th>\n",
              "      <th>overturned</th>\n",
              "      <th>pardoned</th>\n",
              "      <th>american</th>\n",
              "      <th>president</th>\n",
              "    </tr>\n",
              "  </thead>\n",
              "  <tbody>\n",
              "    <tr>\n",
              "      <th>0</th>\n",
              "      <td>watergate</td>\n",
              "      <td>1973-05-19</td>\n",
              "      <td>1977-06-19</td>\n",
              "      <td>1492</td>\n",
              "      <td>James W. McCord</td>\n",
              "      <td>-246.0</td>\n",
              "      <td>conviction</td>\n",
              "      <td>1973-01-30</td>\n",
              "      <td>-109.0</td>\n",
              "      <td>False</td>\n",
              "      <td>False</td>\n",
              "      <td>True</td>\n",
              "      <td>Richard Nixon</td>\n",
              "    </tr>\n",
              "    <tr>\n",
              "      <th>1</th>\n",
              "      <td>watergate</td>\n",
              "      <td>1973-05-19</td>\n",
              "      <td>1977-06-19</td>\n",
              "      <td>1492</td>\n",
              "      <td>Bernard L. Barker</td>\n",
              "      <td>-246.0</td>\n",
              "      <td>conviction</td>\n",
              "      <td>1973-01-15</td>\n",
              "      <td>-124.0</td>\n",
              "      <td>False</td>\n",
              "      <td>False</td>\n",
              "      <td>True</td>\n",
              "      <td>Richard Nixon</td>\n",
              "    </tr>\n",
              "    <tr>\n",
              "      <th>2</th>\n",
              "      <td>watergate</td>\n",
              "      <td>1973-05-19</td>\n",
              "      <td>1977-06-19</td>\n",
              "      <td>1492</td>\n",
              "      <td>Bernard L. Barker</td>\n",
              "      <td>292.0</td>\n",
              "      <td>conviction</td>\n",
              "      <td>1974-07-12</td>\n",
              "      <td>419.0</td>\n",
              "      <td>True</td>\n",
              "      <td>False</td>\n",
              "      <td>True</td>\n",
              "      <td>Richard Nixon</td>\n",
              "    </tr>\n",
              "    <tr>\n",
              "      <th>3</th>\n",
              "      <td>watergate</td>\n",
              "      <td>1973-05-19</td>\n",
              "      <td>1977-06-19</td>\n",
              "      <td>1492</td>\n",
              "      <td>Eugenio R. Martinez</td>\n",
              "      <td>-246.0</td>\n",
              "      <td>guilty-plea</td>\n",
              "      <td>1973-01-15</td>\n",
              "      <td>-124.0</td>\n",
              "      <td>False</td>\n",
              "      <td>True</td>\n",
              "      <td>True</td>\n",
              "      <td>Richard Nixon</td>\n",
              "    </tr>\n",
              "    <tr>\n",
              "      <th>4</th>\n",
              "      <td>watergate</td>\n",
              "      <td>1973-05-19</td>\n",
              "      <td>1977-06-19</td>\n",
              "      <td>1492</td>\n",
              "      <td>Eugenio R. Martinez</td>\n",
              "      <td>292.0</td>\n",
              "      <td>conviction</td>\n",
              "      <td>1974-07-12</td>\n",
              "      <td>419.0</td>\n",
              "      <td>True</td>\n",
              "      <td>False</td>\n",
              "      <td>True</td>\n",
              "      <td>Richard Nixon</td>\n",
              "    </tr>\n",
              "  </tbody>\n",
              "</table>\n",
              "</div>\n",
              "      <button class=\"colab-df-convert\" onclick=\"convertToInteractive('df-b75d2ec2-3f2c-4113-bdbf-5dab59ea0a8c')\"\n",
              "              title=\"Convert this dataframe to an interactive table.\"\n",
              "              style=\"display:none;\">\n",
              "        \n",
              "  <svg xmlns=\"http://www.w3.org/2000/svg\" height=\"24px\"viewBox=\"0 0 24 24\"\n",
              "       width=\"24px\">\n",
              "    <path d=\"M0 0h24v24H0V0z\" fill=\"none\"/>\n",
              "    <path d=\"M18.56 5.44l.94 2.06.94-2.06 2.06-.94-2.06-.94-.94-2.06-.94 2.06-2.06.94zm-11 1L8.5 8.5l.94-2.06 2.06-.94-2.06-.94L8.5 2.5l-.94 2.06-2.06.94zm10 10l.94 2.06.94-2.06 2.06-.94-2.06-.94-.94-2.06-.94 2.06-2.06.94z\"/><path d=\"M17.41 7.96l-1.37-1.37c-.4-.4-.92-.59-1.43-.59-.52 0-1.04.2-1.43.59L10.3 9.45l-7.72 7.72c-.78.78-.78 2.05 0 2.83L4 21.41c.39.39.9.59 1.41.59.51 0 1.02-.2 1.41-.59l7.78-7.78 2.81-2.81c.8-.78.8-2.07 0-2.86zM5.41 20L4 18.59l7.72-7.72 1.47 1.35L5.41 20z\"/>\n",
              "  </svg>\n",
              "      </button>\n",
              "      \n",
              "  <style>\n",
              "    .colab-df-container {\n",
              "      display:flex;\n",
              "      flex-wrap:wrap;\n",
              "      gap: 12px;\n",
              "    }\n",
              "\n",
              "    .colab-df-convert {\n",
              "      background-color: #E8F0FE;\n",
              "      border: none;\n",
              "      border-radius: 50%;\n",
              "      cursor: pointer;\n",
              "      display: none;\n",
              "      fill: #1967D2;\n",
              "      height: 32px;\n",
              "      padding: 0 0 0 0;\n",
              "      width: 32px;\n",
              "    }\n",
              "\n",
              "    .colab-df-convert:hover {\n",
              "      background-color: #E2EBFA;\n",
              "      box-shadow: 0px 1px 2px rgba(60, 64, 67, 0.3), 0px 1px 3px 1px rgba(60, 64, 67, 0.15);\n",
              "      fill: #174EA6;\n",
              "    }\n",
              "\n",
              "    [theme=dark] .colab-df-convert {\n",
              "      background-color: #3B4455;\n",
              "      fill: #D2E3FC;\n",
              "    }\n",
              "\n",
              "    [theme=dark] .colab-df-convert:hover {\n",
              "      background-color: #434B5C;\n",
              "      box-shadow: 0px 1px 3px 1px rgba(0, 0, 0, 0.15);\n",
              "      filter: drop-shadow(0px 1px 2px rgba(0, 0, 0, 0.3));\n",
              "      fill: #FFFFFF;\n",
              "    }\n",
              "  </style>\n",
              "\n",
              "      <script>\n",
              "        const buttonEl =\n",
              "          document.querySelector('#df-b75d2ec2-3f2c-4113-bdbf-5dab59ea0a8c button.colab-df-convert');\n",
              "        buttonEl.style.display =\n",
              "          google.colab.kernel.accessAllowed ? 'block' : 'none';\n",
              "\n",
              "        async function convertToInteractive(key) {\n",
              "          const element = document.querySelector('#df-b75d2ec2-3f2c-4113-bdbf-5dab59ea0a8c');\n",
              "          const dataTable =\n",
              "            await google.colab.kernel.invokeFunction('convertToInteractive',\n",
              "                                                     [key], {});\n",
              "          if (!dataTable) return;\n",
              "\n",
              "          const docLinkHtml = 'Like what you see? Visit the ' +\n",
              "            '<a target=\"_blank\" href=https://colab.research.google.com/notebooks/data_table.ipynb>data table notebook</a>'\n",
              "            + ' to learn more about interactive tables.';\n",
              "          element.innerHTML = '';\n",
              "          dataTable['output_type'] = 'display_data';\n",
              "          await google.colab.output.renderOutput(dataTable, element);\n",
              "          const docLink = document.createElement('div');\n",
              "          docLink.innerHTML = docLinkHtml;\n",
              "          element.appendChild(docLink);\n",
              "        }\n",
              "      </script>\n",
              "    </div>\n",
              "  </div>\n",
              "  "
            ]
          },
          "metadata": {},
          "execution_count": 5
        }
      ]
    },
    {
      "cell_type": "code",
      "source": [
        "len(rus['investigation'].unique())"
      ],
      "metadata": {
        "id": "6It10vYwRs7u",
        "outputId": "08668758-a6c7-4814-b11e-275eece934a4",
        "colab": {
          "base_uri": "https://localhost:8080/"
        }
      },
      "execution_count": 51,
      "outputs": [
        {
          "output_type": "execute_result",
          "data": {
            "text/plain": [
              "11"
            ]
          },
          "metadata": {},
          "execution_count": 51
        }
      ]
    },
    {
      "cell_type": "code",
      "source": [
        "len(rus['name'].unique())"
      ],
      "metadata": {
        "id": "BOUq9NvCSCwV",
        "outputId": "16be4fb5-6d3b-4b1b-9f8e-16b2a51f5f58",
        "colab": {
          "base_uri": "https://localhost:8080/"
        }
      },
      "execution_count": 52,
      "outputs": [
        {
          "output_type": "execute_result",
          "data": {
            "text/plain": [
              "177"
            ]
          },
          "metadata": {},
          "execution_count": 52
        }
      ]
    },
    {
      "cell_type": "code",
      "source": [
        "rus['type'].value_counts()"
      ],
      "metadata": {
        "id": "pbP8d3x3SKba",
        "outputId": "b6ad6e3f-a3a6-47f4-e3e3-1dc523b92b80",
        "colab": {
          "base_uri": "https://localhost:8080/"
        }
      },
      "execution_count": 54,
      "outputs": [
        {
          "output_type": "execute_result",
          "data": {
            "text/plain": [
              "guilty-plea    86\n",
              "indictment     56\n",
              "conviction     39\n",
              "Name: type, dtype: int64"
            ]
          },
          "metadata": {},
          "execution_count": 54
        }
      ]
    },
    {
      "cell_type": "code",
      "source": [
        "rus.groupby('investigation')['investigation-days'].max().sort_values()"
      ],
      "metadata": {
        "id": "XUZ1fcxLSTGZ",
        "outputId": "1f19fa52-d283-4335-b641-e66a8642062c",
        "colab": {
          "base_uri": "https://localhost:8080/"
        }
      },
      "execution_count": 58,
      "outputs": [
        {
          "output_type": "execute_result",
          "data": {
            "text/plain": [
              "investigation\n",
              "wedtech         522\n",
              "russia          659\n",
              "herman          682\n",
              "plame          1161\n",
              "deaver         1175\n",
              "watergate      1494\n",
              "espy           2335\n",
              "iran-contra    2419\n",
              "whitewater     2770\n",
              "pierce         3162\n",
              "cisneros       3387\n",
              "Name: investigation-days, dtype: int64"
            ]
          },
          "metadata": {},
          "execution_count": 58
        }
      ]
    },
    {
      "cell_type": "code",
      "source": [
        "rus['investigation-days']/365"
      ],
      "metadata": {
        "id": "_cTE53Q_Uw3d",
        "outputId": "cc5bc7b8-6cf1-4788-9b24-b9022d33b0f4",
        "colab": {
          "base_uri": "https://localhost:8080/"
        }
      },
      "execution_count": 59,
      "outputs": [
        {
          "output_type": "execute_result",
          "data": {
            "text/plain": [
              "0      4.087671\n",
              "1      4.087671\n",
              "2      4.087671\n",
              "3      4.087671\n",
              "4      4.087671\n",
              "         ...   \n",
              "189    1.805479\n",
              "190    1.805479\n",
              "191    1.805479\n",
              "192    1.805479\n",
              "193    1.805479\n",
              "Name: investigation-days, Length: 181, dtype: float64"
            ]
          },
          "metadata": {},
          "execution_count": 59
        }
      ]
    },
    {
      "cell_type": "code",
      "source": [
        "rus['investigation-years']=rus['investigation-days']/365"
      ],
      "metadata": {
        "id": "2rJCsN7SS47r",
        "outputId": "3ef75f17-4dfc-4e8f-962b-13b2d5500930",
        "colab": {
          "base_uri": "https://localhost:8080/"
        }
      },
      "execution_count": 6,
      "outputs": [
        {
          "output_type": "stream",
          "name": "stderr",
          "text": [
            "/usr/local/lib/python3.7/dist-packages/ipykernel_launcher.py:1: SettingWithCopyWarning: \n",
            "A value is trying to be set on a copy of a slice from a DataFrame.\n",
            "Try using .loc[row_indexer,col_indexer] = value instead\n",
            "\n",
            "See the caveats in the documentation: https://pandas.pydata.org/pandas-docs/stable/user_guide/indexing.html#returning-a-view-versus-a-copy\n",
            "  \"\"\"Entry point for launching an IPython kernel.\n"
          ]
        }
      ]
    },
    {
      "cell_type": "code",
      "source": [
        "rus.head()"
      ],
      "metadata": {
        "id": "PUAkoVOeVDC1",
        "outputId": "b9370983-7da1-48ab-cabf-157933b117de",
        "colab": {
          "base_uri": "https://localhost:8080/",
          "height": 455
        }
      },
      "execution_count": 7,
      "outputs": [
        {
          "output_type": "execute_result",
          "data": {
            "text/plain": [
              "  investigation investigation-start investigation-end  investigation-days  \\\n",
              "0     watergate          1973-05-19        1977-06-19                1492   \n",
              "1     watergate          1973-05-19        1977-06-19                1492   \n",
              "2     watergate          1973-05-19        1977-06-19                1492   \n",
              "3     watergate          1973-05-19        1977-06-19                1492   \n",
              "4     watergate          1973-05-19        1977-06-19                1492   \n",
              "\n",
              "                  name  indictment-days          type     cp-date  cp-days  \\\n",
              "0      James W. McCord            -246.0   conviction  1973-01-30   -109.0   \n",
              "1    Bernard L. Barker            -246.0   conviction  1973-01-15   -124.0   \n",
              "2    Bernard L. Barker             292.0   conviction  1974-07-12    419.0   \n",
              "3  Eugenio R. Martinez            -246.0  guilty-plea  1973-01-15   -124.0   \n",
              "4  Eugenio R. Martinez             292.0   conviction  1974-07-12    419.0   \n",
              "\n",
              "   overturned  pardoned  american      president  investigation-years  \n",
              "0       False     False      True  Richard Nixon             4.087671  \n",
              "1       False     False      True  Richard Nixon             4.087671  \n",
              "2        True     False      True  Richard Nixon             4.087671  \n",
              "3       False      True      True  Richard Nixon             4.087671  \n",
              "4        True     False      True  Richard Nixon             4.087671  "
            ],
            "text/html": [
              "\n",
              "  <div id=\"df-0d62dad8-8c9d-43c5-824d-73fa1ae9fbfa\">\n",
              "    <div class=\"colab-df-container\">\n",
              "      <div>\n",
              "<style scoped>\n",
              "    .dataframe tbody tr th:only-of-type {\n",
              "        vertical-align: middle;\n",
              "    }\n",
              "\n",
              "    .dataframe tbody tr th {\n",
              "        vertical-align: top;\n",
              "    }\n",
              "\n",
              "    .dataframe thead th {\n",
              "        text-align: right;\n",
              "    }\n",
              "</style>\n",
              "<table border=\"1\" class=\"dataframe\">\n",
              "  <thead>\n",
              "    <tr style=\"text-align: right;\">\n",
              "      <th></th>\n",
              "      <th>investigation</th>\n",
              "      <th>investigation-start</th>\n",
              "      <th>investigation-end</th>\n",
              "      <th>investigation-days</th>\n",
              "      <th>name</th>\n",
              "      <th>indictment-days</th>\n",
              "      <th>type</th>\n",
              "      <th>cp-date</th>\n",
              "      <th>cp-days</th>\n",
              "      <th>overturned</th>\n",
              "      <th>pardoned</th>\n",
              "      <th>american</th>\n",
              "      <th>president</th>\n",
              "      <th>investigation-years</th>\n",
              "    </tr>\n",
              "  </thead>\n",
              "  <tbody>\n",
              "    <tr>\n",
              "      <th>0</th>\n",
              "      <td>watergate</td>\n",
              "      <td>1973-05-19</td>\n",
              "      <td>1977-06-19</td>\n",
              "      <td>1492</td>\n",
              "      <td>James W. McCord</td>\n",
              "      <td>-246.0</td>\n",
              "      <td>conviction</td>\n",
              "      <td>1973-01-30</td>\n",
              "      <td>-109.0</td>\n",
              "      <td>False</td>\n",
              "      <td>False</td>\n",
              "      <td>True</td>\n",
              "      <td>Richard Nixon</td>\n",
              "      <td>4.087671</td>\n",
              "    </tr>\n",
              "    <tr>\n",
              "      <th>1</th>\n",
              "      <td>watergate</td>\n",
              "      <td>1973-05-19</td>\n",
              "      <td>1977-06-19</td>\n",
              "      <td>1492</td>\n",
              "      <td>Bernard L. Barker</td>\n",
              "      <td>-246.0</td>\n",
              "      <td>conviction</td>\n",
              "      <td>1973-01-15</td>\n",
              "      <td>-124.0</td>\n",
              "      <td>False</td>\n",
              "      <td>False</td>\n",
              "      <td>True</td>\n",
              "      <td>Richard Nixon</td>\n",
              "      <td>4.087671</td>\n",
              "    </tr>\n",
              "    <tr>\n",
              "      <th>2</th>\n",
              "      <td>watergate</td>\n",
              "      <td>1973-05-19</td>\n",
              "      <td>1977-06-19</td>\n",
              "      <td>1492</td>\n",
              "      <td>Bernard L. Barker</td>\n",
              "      <td>292.0</td>\n",
              "      <td>conviction</td>\n",
              "      <td>1974-07-12</td>\n",
              "      <td>419.0</td>\n",
              "      <td>True</td>\n",
              "      <td>False</td>\n",
              "      <td>True</td>\n",
              "      <td>Richard Nixon</td>\n",
              "      <td>4.087671</td>\n",
              "    </tr>\n",
              "    <tr>\n",
              "      <th>3</th>\n",
              "      <td>watergate</td>\n",
              "      <td>1973-05-19</td>\n",
              "      <td>1977-06-19</td>\n",
              "      <td>1492</td>\n",
              "      <td>Eugenio R. Martinez</td>\n",
              "      <td>-246.0</td>\n",
              "      <td>guilty-plea</td>\n",
              "      <td>1973-01-15</td>\n",
              "      <td>-124.0</td>\n",
              "      <td>False</td>\n",
              "      <td>True</td>\n",
              "      <td>True</td>\n",
              "      <td>Richard Nixon</td>\n",
              "      <td>4.087671</td>\n",
              "    </tr>\n",
              "    <tr>\n",
              "      <th>4</th>\n",
              "      <td>watergate</td>\n",
              "      <td>1973-05-19</td>\n",
              "      <td>1977-06-19</td>\n",
              "      <td>1492</td>\n",
              "      <td>Eugenio R. Martinez</td>\n",
              "      <td>292.0</td>\n",
              "      <td>conviction</td>\n",
              "      <td>1974-07-12</td>\n",
              "      <td>419.0</td>\n",
              "      <td>True</td>\n",
              "      <td>False</td>\n",
              "      <td>True</td>\n",
              "      <td>Richard Nixon</td>\n",
              "      <td>4.087671</td>\n",
              "    </tr>\n",
              "  </tbody>\n",
              "</table>\n",
              "</div>\n",
              "      <button class=\"colab-df-convert\" onclick=\"convertToInteractive('df-0d62dad8-8c9d-43c5-824d-73fa1ae9fbfa')\"\n",
              "              title=\"Convert this dataframe to an interactive table.\"\n",
              "              style=\"display:none;\">\n",
              "        \n",
              "  <svg xmlns=\"http://www.w3.org/2000/svg\" height=\"24px\"viewBox=\"0 0 24 24\"\n",
              "       width=\"24px\">\n",
              "    <path d=\"M0 0h24v24H0V0z\" fill=\"none\"/>\n",
              "    <path d=\"M18.56 5.44l.94 2.06.94-2.06 2.06-.94-2.06-.94-.94-2.06-.94 2.06-2.06.94zm-11 1L8.5 8.5l.94-2.06 2.06-.94-2.06-.94L8.5 2.5l-.94 2.06-2.06.94zm10 10l.94 2.06.94-2.06 2.06-.94-2.06-.94-.94-2.06-.94 2.06-2.06.94z\"/><path d=\"M17.41 7.96l-1.37-1.37c-.4-.4-.92-.59-1.43-.59-.52 0-1.04.2-1.43.59L10.3 9.45l-7.72 7.72c-.78.78-.78 2.05 0 2.83L4 21.41c.39.39.9.59 1.41.59.51 0 1.02-.2 1.41-.59l7.78-7.78 2.81-2.81c.8-.78.8-2.07 0-2.86zM5.41 20L4 18.59l7.72-7.72 1.47 1.35L5.41 20z\"/>\n",
              "  </svg>\n",
              "      </button>\n",
              "      \n",
              "  <style>\n",
              "    .colab-df-container {\n",
              "      display:flex;\n",
              "      flex-wrap:wrap;\n",
              "      gap: 12px;\n",
              "    }\n",
              "\n",
              "    .colab-df-convert {\n",
              "      background-color: #E8F0FE;\n",
              "      border: none;\n",
              "      border-radius: 50%;\n",
              "      cursor: pointer;\n",
              "      display: none;\n",
              "      fill: #1967D2;\n",
              "      height: 32px;\n",
              "      padding: 0 0 0 0;\n",
              "      width: 32px;\n",
              "    }\n",
              "\n",
              "    .colab-df-convert:hover {\n",
              "      background-color: #E2EBFA;\n",
              "      box-shadow: 0px 1px 2px rgba(60, 64, 67, 0.3), 0px 1px 3px 1px rgba(60, 64, 67, 0.15);\n",
              "      fill: #174EA6;\n",
              "    }\n",
              "\n",
              "    [theme=dark] .colab-df-convert {\n",
              "      background-color: #3B4455;\n",
              "      fill: #D2E3FC;\n",
              "    }\n",
              "\n",
              "    [theme=dark] .colab-df-convert:hover {\n",
              "      background-color: #434B5C;\n",
              "      box-shadow: 0px 1px 3px 1px rgba(0, 0, 0, 0.15);\n",
              "      filter: drop-shadow(0px 1px 2px rgba(0, 0, 0, 0.3));\n",
              "      fill: #FFFFFF;\n",
              "    }\n",
              "  </style>\n",
              "\n",
              "      <script>\n",
              "        const buttonEl =\n",
              "          document.querySelector('#df-0d62dad8-8c9d-43c5-824d-73fa1ae9fbfa button.colab-df-convert');\n",
              "        buttonEl.style.display =\n",
              "          google.colab.kernel.accessAllowed ? 'block' : 'none';\n",
              "\n",
              "        async function convertToInteractive(key) {\n",
              "          const element = document.querySelector('#df-0d62dad8-8c9d-43c5-824d-73fa1ae9fbfa');\n",
              "          const dataTable =\n",
              "            await google.colab.kernel.invokeFunction('convertToInteractive',\n",
              "                                                     [key], {});\n",
              "          if (!dataTable) return;\n",
              "\n",
              "          const docLinkHtml = 'Like what you see? Visit the ' +\n",
              "            '<a target=\"_blank\" href=https://colab.research.google.com/notebooks/data_table.ipynb>data table notebook</a>'\n",
              "            + ' to learn more about interactive tables.';\n",
              "          element.innerHTML = '';\n",
              "          dataTable['output_type'] = 'display_data';\n",
              "          await google.colab.output.renderOutput(dataTable, element);\n",
              "          const docLink = document.createElement('div');\n",
              "          docLink.innerHTML = docLinkHtml;\n",
              "          element.appendChild(docLink);\n",
              "        }\n",
              "      </script>\n",
              "    </div>\n",
              "  </div>\n",
              "  "
            ]
          },
          "metadata": {},
          "execution_count": 7
        }
      ]
    },
    {
      "cell_type": "code",
      "source": [
        "rus_plot=pd.DataFrame(rus.groupby('investigation')['investigation-years'].max().sort_values())\n",
        "rus_plot=rus_plot.reset_index().copy()"
      ],
      "metadata": {
        "id": "n0XvgeeHbiO3"
      },
      "execution_count": 8,
      "outputs": []
    },
    {
      "cell_type": "code",
      "source": [
        "rus_plot"
      ],
      "metadata": {
        "id": "LCnxJv19cHHL",
        "outputId": "2b57089e-6302-4885-a7fc-775213b33312",
        "colab": {
          "base_uri": "https://localhost:8080/",
          "height": 390
        }
      },
      "execution_count": 9,
      "outputs": [
        {
          "output_type": "execute_result",
          "data": {
            "text/plain": [
              "   investigation  investigation-years\n",
              "0        wedtech             1.430137\n",
              "1         russia             1.805479\n",
              "2         herman             1.868493\n",
              "3          plame             3.180822\n",
              "4         deaver             3.219178\n",
              "5      watergate             4.093151\n",
              "6           espy             6.397260\n",
              "7    iran-contra             6.627397\n",
              "8     whitewater             7.589041\n",
              "9         pierce             8.663014\n",
              "10      cisneros             9.279452"
            ],
            "text/html": [
              "\n",
              "  <div id=\"df-f8c3f9e6-090d-4c41-a8af-71907e8487a5\">\n",
              "    <div class=\"colab-df-container\">\n",
              "      <div>\n",
              "<style scoped>\n",
              "    .dataframe tbody tr th:only-of-type {\n",
              "        vertical-align: middle;\n",
              "    }\n",
              "\n",
              "    .dataframe tbody tr th {\n",
              "        vertical-align: top;\n",
              "    }\n",
              "\n",
              "    .dataframe thead th {\n",
              "        text-align: right;\n",
              "    }\n",
              "</style>\n",
              "<table border=\"1\" class=\"dataframe\">\n",
              "  <thead>\n",
              "    <tr style=\"text-align: right;\">\n",
              "      <th></th>\n",
              "      <th>investigation</th>\n",
              "      <th>investigation-years</th>\n",
              "    </tr>\n",
              "  </thead>\n",
              "  <tbody>\n",
              "    <tr>\n",
              "      <th>0</th>\n",
              "      <td>wedtech</td>\n",
              "      <td>1.430137</td>\n",
              "    </tr>\n",
              "    <tr>\n",
              "      <th>1</th>\n",
              "      <td>russia</td>\n",
              "      <td>1.805479</td>\n",
              "    </tr>\n",
              "    <tr>\n",
              "      <th>2</th>\n",
              "      <td>herman</td>\n",
              "      <td>1.868493</td>\n",
              "    </tr>\n",
              "    <tr>\n",
              "      <th>3</th>\n",
              "      <td>plame</td>\n",
              "      <td>3.180822</td>\n",
              "    </tr>\n",
              "    <tr>\n",
              "      <th>4</th>\n",
              "      <td>deaver</td>\n",
              "      <td>3.219178</td>\n",
              "    </tr>\n",
              "    <tr>\n",
              "      <th>5</th>\n",
              "      <td>watergate</td>\n",
              "      <td>4.093151</td>\n",
              "    </tr>\n",
              "    <tr>\n",
              "      <th>6</th>\n",
              "      <td>espy</td>\n",
              "      <td>6.397260</td>\n",
              "    </tr>\n",
              "    <tr>\n",
              "      <th>7</th>\n",
              "      <td>iran-contra</td>\n",
              "      <td>6.627397</td>\n",
              "    </tr>\n",
              "    <tr>\n",
              "      <th>8</th>\n",
              "      <td>whitewater</td>\n",
              "      <td>7.589041</td>\n",
              "    </tr>\n",
              "    <tr>\n",
              "      <th>9</th>\n",
              "      <td>pierce</td>\n",
              "      <td>8.663014</td>\n",
              "    </tr>\n",
              "    <tr>\n",
              "      <th>10</th>\n",
              "      <td>cisneros</td>\n",
              "      <td>9.279452</td>\n",
              "    </tr>\n",
              "  </tbody>\n",
              "</table>\n",
              "</div>\n",
              "      <button class=\"colab-df-convert\" onclick=\"convertToInteractive('df-f8c3f9e6-090d-4c41-a8af-71907e8487a5')\"\n",
              "              title=\"Convert this dataframe to an interactive table.\"\n",
              "              style=\"display:none;\">\n",
              "        \n",
              "  <svg xmlns=\"http://www.w3.org/2000/svg\" height=\"24px\"viewBox=\"0 0 24 24\"\n",
              "       width=\"24px\">\n",
              "    <path d=\"M0 0h24v24H0V0z\" fill=\"none\"/>\n",
              "    <path d=\"M18.56 5.44l.94 2.06.94-2.06 2.06-.94-2.06-.94-.94-2.06-.94 2.06-2.06.94zm-11 1L8.5 8.5l.94-2.06 2.06-.94-2.06-.94L8.5 2.5l-.94 2.06-2.06.94zm10 10l.94 2.06.94-2.06 2.06-.94-2.06-.94-.94-2.06-.94 2.06-2.06.94z\"/><path d=\"M17.41 7.96l-1.37-1.37c-.4-.4-.92-.59-1.43-.59-.52 0-1.04.2-1.43.59L10.3 9.45l-7.72 7.72c-.78.78-.78 2.05 0 2.83L4 21.41c.39.39.9.59 1.41.59.51 0 1.02-.2 1.41-.59l7.78-7.78 2.81-2.81c.8-.78.8-2.07 0-2.86zM5.41 20L4 18.59l7.72-7.72 1.47 1.35L5.41 20z\"/>\n",
              "  </svg>\n",
              "      </button>\n",
              "      \n",
              "  <style>\n",
              "    .colab-df-container {\n",
              "      display:flex;\n",
              "      flex-wrap:wrap;\n",
              "      gap: 12px;\n",
              "    }\n",
              "\n",
              "    .colab-df-convert {\n",
              "      background-color: #E8F0FE;\n",
              "      border: none;\n",
              "      border-radius: 50%;\n",
              "      cursor: pointer;\n",
              "      display: none;\n",
              "      fill: #1967D2;\n",
              "      height: 32px;\n",
              "      padding: 0 0 0 0;\n",
              "      width: 32px;\n",
              "    }\n",
              "\n",
              "    .colab-df-convert:hover {\n",
              "      background-color: #E2EBFA;\n",
              "      box-shadow: 0px 1px 2px rgba(60, 64, 67, 0.3), 0px 1px 3px 1px rgba(60, 64, 67, 0.15);\n",
              "      fill: #174EA6;\n",
              "    }\n",
              "\n",
              "    [theme=dark] .colab-df-convert {\n",
              "      background-color: #3B4455;\n",
              "      fill: #D2E3FC;\n",
              "    }\n",
              "\n",
              "    [theme=dark] .colab-df-convert:hover {\n",
              "      background-color: #434B5C;\n",
              "      box-shadow: 0px 1px 3px 1px rgba(0, 0, 0, 0.15);\n",
              "      filter: drop-shadow(0px 1px 2px rgba(0, 0, 0, 0.3));\n",
              "      fill: #FFFFFF;\n",
              "    }\n",
              "  </style>\n",
              "\n",
              "      <script>\n",
              "        const buttonEl =\n",
              "          document.querySelector('#df-f8c3f9e6-090d-4c41-a8af-71907e8487a5 button.colab-df-convert');\n",
              "        buttonEl.style.display =\n",
              "          google.colab.kernel.accessAllowed ? 'block' : 'none';\n",
              "\n",
              "        async function convertToInteractive(key) {\n",
              "          const element = document.querySelector('#df-f8c3f9e6-090d-4c41-a8af-71907e8487a5');\n",
              "          const dataTable =\n",
              "            await google.colab.kernel.invokeFunction('convertToInteractive',\n",
              "                                                     [key], {});\n",
              "          if (!dataTable) return;\n",
              "\n",
              "          const docLinkHtml = 'Like what you see? Visit the ' +\n",
              "            '<a target=\"_blank\" href=https://colab.research.google.com/notebooks/data_table.ipynb>data table notebook</a>'\n",
              "            + ' to learn more about interactive tables.';\n",
              "          element.innerHTML = '';\n",
              "          dataTable['output_type'] = 'display_data';\n",
              "          await google.colab.output.renderOutput(dataTable, element);\n",
              "          const docLink = document.createElement('div');\n",
              "          docLink.innerHTML = docLinkHtml;\n",
              "          element.appendChild(docLink);\n",
              "        }\n",
              "      </script>\n",
              "    </div>\n",
              "  </div>\n",
              "  "
            ]
          },
          "metadata": {},
          "execution_count": 9
        }
      ]
    },
    {
      "cell_type": "code",
      "source": [
        "fig, ax = plt.subplots()\n",
        "\n",
        "# fig background color\n",
        "fig.set_figwidth(7)\n",
        "fig.set_figheight(9)\n",
        "fig.patch.set(facecolor=\"#e6e6e6\")\n",
        "\n",
        "# set the bar\n",
        "ax.barh(y=range(1, 12), height=0.3, width=rus_plot['investigation-years'].sort_values(ascending=False), color=\"#c7c7c7\")\n",
        "\n",
        "# set axes background color\n",
        "ax.set(facecolor=\"#e6e6e6\")\n",
        "\n",
        "# remove borders\n",
        "ax.spines['top'].set_visible(False)\n",
        "ax.spines['right'].set_visible(False)\n",
        "ax.spines['bottom'].set_visible(False)\n",
        "\n",
        "# set the title and the subtitle\n",
        "ax.set_title(\"All special investigation charges since 1973\",\n",
        "             fontsize=12,\n",
        "             #x=.35,\n",
        "             y=1.054,\n",
        "             fontweight=\"bold\")\n",
        "\n",
        "# set x axes label\n",
        "ax.set_xlabel(\"Years into investigation\", fontsize=9)\n",
        "\n",
        "# fix x and y axes tickmarks and grid\n",
        "#ax.set_xticklabels(range(1, 12), rotation=0)\n",
        "ax.set_xticks(range(1, 11))\n",
        "ax.get_yaxis().set_visible(False)\n",
        "ax.tick_params(axis='both', which='both', length=0)\n",
        "#ax.set_yticklabels(range(0, 12, 1))\n",
        "#ax.set_yticks(range(0, 12, 1));"
      ],
      "metadata": {
        "id": "iRuXtGu7VcrL",
        "outputId": "1bf6503c-78d9-444f-b5ec-372923dfc214",
        "colab": {
          "base_uri": "https://localhost:8080/",
          "height": 589
        }
      },
      "execution_count": 52,
      "outputs": [
        {
          "output_type": "display_data",
          "data": {
            "text/plain": [
              "<Figure size 504x648 with 1 Axes>"
            ],
            "image/png": "[encoded data removed]"
          },
          "metadata": {}
        }
      ]
    },
    {
      "cell_type": "code",
      "source": [
        ""
      ],
      "metadata": {
        "id": "rjaUB47DrGMB"
      },
      "execution_count": null,
      "outputs": []
    },
    {
      "cell_type": "code",
      "source": [
        ""
      ],
      "metadata": {
        "id": "i5jL2leXqrQe"
      },
      "execution_count": null,
      "outputs": []
    },
    {
      "cell_type": "code",
      "source": [
        ""
      ],
      "metadata": {
        "id": "4KMLwyrlqplE"
      },
      "execution_count": null,
      "outputs": []
    },
    {
      "cell_type": "markdown",
      "metadata": {
        "id": "0wSrBzmJyWaV"
      },
      "source": [
        "# STRETCH OPTIONS\n",
        "\n",
        "### 1) Reproduce one of the following using the matplotlib or seaborn libraries:\n",
        "\n",
        "- [thanksgiving-2015](https://fivethirtyeight.com/features/heres-what-your-part-of-america-eats-on-thanksgiving/) \n",
        "- [candy-power-ranking](https://fivethirtyeight.com/features/the-ultimate-halloween-candy-power-ranking/) \n",
        "- or another example of your choice!\n",
        "\n",
        "### 2) Make more charts!\n",
        "\n",
        "Choose a chart you want to make, from [Visual Vocabulary - Vega Edition](http://ft.com/vocabulary).\n",
        "\n",
        "Find the chart in an example gallery of a Python data visualization library:\n",
        "- [Seaborn](http://seaborn.pydata.org/examples/index.html)\n",
        "- [Altair](https://altair-viz.github.io/gallery/index.html)\n",
        "- [Matplotlib](https://matplotlib.org/gallery.html)\n",
        "- [Pandas](https://pandas.pydata.org/pandas-docs/stable/visualization.html)\n",
        "\n",
        "Reproduce the chart. [Optionally, try the \"Ben Franklin Method.\"](https://docs.google.com/document/d/1ubOw9B3Hfip27hF2ZFnW3a3z9xAgrUDRReOEo-FHCVs/edit) If you want, experiment and make changes.\n",
        "\n",
        "Take notes. Consider sharing your work with your cohort!"
      ]
    },
    {
      "cell_type": "code",
      "metadata": {
        "id": "dRJkKftiy5BJ"
      },
      "source": [
        "# More Work Here"
      ],
      "execution_count": null,
      "outputs": []
    }
  ]
}